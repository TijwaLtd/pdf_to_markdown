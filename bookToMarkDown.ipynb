{
  "nbformat": 4,
  "nbformat_minor": 0,
  "metadata": {
    "colab": {
      "provenance": [],
      "gpuType": "T4",
      "authorship_tag": "ABX9TyPSKYrYVZEuAsgvziKaKv0u",
      "include_colab_link": true
    },
    "kernelspec": {
      "name": "python3",
      "display_name": "Python 3"
    },
    "language_info": {
      "name": "python"
    },
    "accelerator": "GPU"
  },
  "cells": [
    {
      "cell_type": "markdown",
      "metadata": {
        "id": "view-in-github",
        "colab_type": "text"
      },
      "source": [
        "<a href=\"https://colab.research.google.com/github/TijwaLtd/pdf_to_markdown/blob/main/bookToMarkDown.ipynb\" target=\"_parent\"><img src=\"https://colab.research.google.com/assets/colab-badge.svg\" alt=\"Open In Colab\"/></a>"
      ]
    },
    {
      "cell_type": "code",
      "execution_count": null,
      "metadata": {
        "colab": {
          "base_uri": "https://localhost:8080/"
        },
        "id": "GFQu-dQT2rh-",
        "outputId": "ff37530f-983f-4cef-c42e-954f12662c48"
      },
      "outputs": [
        {
          "output_type": "stream",
          "name": "stdout",
          "text": [
            "Collecting marker-pdf\n",
            "  Downloading marker_pdf-0.3.9-py3-none-any.whl.metadata (16 kB)\n",
            "Requirement already satisfied: Pillow<11.0.0,>=10.1.0 in /usr/local/lib/python3.10/dist-packages (from marker-pdf) (10.4.0)\n",
            "Collecting filetype<2.0.0,>=1.2.0 (from marker-pdf)\n",
            "  Downloading filetype-1.2.0-py2.py3-none-any.whl.metadata (6.5 kB)\n",
            "Collecting ftfy<7.0.0,>=6.1.1 (from marker-pdf)\n",
            "  Downloading ftfy-6.3.1-py3-none-any.whl.metadata (7.3 kB)\n",
            "Collecting pdftext<0.4.0,>=0.3.17 (from marker-pdf)\n",
            "  Downloading pdftext-0.3.18-py3-none-any.whl.metadata (8.2 kB)\n",
            "Requirement already satisfied: pydantic<3.0.0,>=2.4.2 in /usr/local/lib/python3.10/dist-packages (from marker-pdf) (2.9.2)\n",
            "Collecting pydantic-settings<3.0.0,>=2.0.3 (from marker-pdf)\n",
            "  Downloading pydantic_settings-2.6.0-py3-none-any.whl.metadata (3.5 kB)\n",
            "Collecting python-dotenv<2.0.0,>=1.0.0 (from marker-pdf)\n",
            "  Downloading python_dotenv-1.0.1-py3-none-any.whl.metadata (23 kB)\n",
            "Collecting rapidfuzz<4.0.0,>=3.8.1 (from marker-pdf)\n",
            "  Downloading rapidfuzz-3.10.1-cp310-cp310-manylinux_2_17_x86_64.manylinux2014_x86_64.whl.metadata (11 kB)\n",
            "Requirement already satisfied: regex<2025.0.0,>=2024.4.28 in /usr/local/lib/python3.10/dist-packages (from marker-pdf) (2024.9.11)\n",
            "Collecting surya-ocr<0.7.0,>=0.6.11 (from marker-pdf)\n",
            "  Downloading surya_ocr-0.6.12-py3-none-any.whl.metadata (30 kB)\n",
            "Collecting tabled-pdf<0.2.0,>=0.1.4 (from marker-pdf)\n",
            "  Downloading tabled_pdf-0.1.4-py3-none-any.whl.metadata (8.3 kB)\n",
            "Requirement already satisfied: tabulate<0.10.0,>=0.9.0 in /usr/local/lib/python3.10/dist-packages (from marker-pdf) (0.9.0)\n",
            "Collecting texify<0.3.0,>=0.2.0 (from marker-pdf)\n",
            "  Downloading texify-0.2.0-py3-none-any.whl.metadata (10 kB)\n",
            "Requirement already satisfied: torch<3.0.0,>=2.4.1 in /usr/local/lib/python3.10/dist-packages (from marker-pdf) (2.5.0+cu121)\n",
            "Requirement already satisfied: tqdm<5.0.0,>=4.66.1 in /usr/local/lib/python3.10/dist-packages (from marker-pdf) (4.66.5)\n",
            "Collecting transformers<5.0.0,>=4.45.2 (from marker-pdf)\n",
            "  Downloading transformers-4.46.1-py3-none-any.whl.metadata (44 kB)\n",
            "\u001b[2K     \u001b[90m━━━━━━━━━━━━━━━━━━━━━━━━━━━━━━━━━━━━━━━━\u001b[0m \u001b[32m44.1/44.1 kB\u001b[0m \u001b[31m3.4 MB/s\u001b[0m eta \u001b[36m0:00:00\u001b[0m\n",
            "\u001b[?25hRequirement already satisfied: wcwidth in /usr/local/lib/python3.10/dist-packages (from ftfy<7.0.0,>=6.1.1->marker-pdf) (0.2.13)\n",
            "Collecting onnxruntime<2.0.0,>=1.19.2 (from pdftext<0.4.0,>=0.3.17->marker-pdf)\n",
            "  Downloading onnxruntime-1.19.2-cp310-cp310-manylinux_2_27_x86_64.manylinux_2_28_x86_64.whl.metadata (4.5 kB)\n",
            "Collecting pypdfium2<5.0.0,>=4.29.0 (from pdftext<0.4.0,>=0.3.17->marker-pdf)\n",
            "  Downloading pypdfium2-4.30.0-py3-none-manylinux_2_17_x86_64.manylinux2014_x86_64.whl.metadata (48 kB)\n",
            "\u001b[2K     \u001b[90m━━━━━━━━━━━━━━━━━━━━━━━━━━━━━━━━━━━━━━━━\u001b[0m \u001b[32m48.5/48.5 kB\u001b[0m \u001b[31m3.1 MB/s\u001b[0m eta \u001b[36m0:00:00\u001b[0m\n",
            "\u001b[?25hRequirement already satisfied: annotated-types>=0.6.0 in /usr/local/lib/python3.10/dist-packages (from pydantic<3.0.0,>=2.4.2->marker-pdf) (0.7.0)\n",
            "Requirement already satisfied: pydantic-core==2.23.4 in /usr/local/lib/python3.10/dist-packages (from pydantic<3.0.0,>=2.4.2->marker-pdf) (2.23.4)\n",
            "Requirement already satisfied: typing-extensions>=4.6.1 in /usr/local/lib/python3.10/dist-packages (from pydantic<3.0.0,>=2.4.2->marker-pdf) (4.12.2)\n",
            "Requirement already satisfied: opencv-python<5.0.0.0,>=4.9.0.80 in /usr/local/lib/python3.10/dist-packages (from surya-ocr<0.7.0,>=0.6.11->marker-pdf) (4.10.0.84)\n",
            "Requirement already satisfied: click<9.0.0,>=8.1.7 in /usr/local/lib/python3.10/dist-packages (from tabled-pdf<0.2.0,>=0.1.4->marker-pdf) (8.1.7)\n",
            "Requirement already satisfied: scikit-learn<2.0.0,>=1.5.2 in /usr/local/lib/python3.10/dist-packages (from tabled-pdf<0.2.0,>=0.1.4->marker-pdf) (1.5.2)\n",
            "Requirement already satisfied: filelock in /usr/local/lib/python3.10/dist-packages (from torch<3.0.0,>=2.4.1->marker-pdf) (3.16.1)\n",
            "Requirement already satisfied: networkx in /usr/local/lib/python3.10/dist-packages (from torch<3.0.0,>=2.4.1->marker-pdf) (3.4.2)\n",
            "Requirement already satisfied: jinja2 in /usr/local/lib/python3.10/dist-packages (from torch<3.0.0,>=2.4.1->marker-pdf) (3.1.4)\n",
            "Requirement already satisfied: fsspec in /usr/local/lib/python3.10/dist-packages (from torch<3.0.0,>=2.4.1->marker-pdf) (2024.6.1)\n",
            "Requirement already satisfied: sympy==1.13.1 in /usr/local/lib/python3.10/dist-packages (from torch<3.0.0,>=2.4.1->marker-pdf) (1.13.1)\n",
            "Requirement already satisfied: mpmath<1.4,>=1.1.0 in /usr/local/lib/python3.10/dist-packages (from sympy==1.13.1->torch<3.0.0,>=2.4.1->marker-pdf) (1.3.0)\n",
            "Requirement already satisfied: huggingface-hub<1.0,>=0.23.2 in /usr/local/lib/python3.10/dist-packages (from transformers<5.0.0,>=4.45.2->marker-pdf) (0.24.7)\n",
            "Requirement already satisfied: numpy>=1.17 in /usr/local/lib/python3.10/dist-packages (from transformers<5.0.0,>=4.45.2->marker-pdf) (1.26.4)\n",
            "Requirement already satisfied: packaging>=20.0 in /usr/local/lib/python3.10/dist-packages (from transformers<5.0.0,>=4.45.2->marker-pdf) (24.1)\n",
            "Requirement already satisfied: pyyaml>=5.1 in /usr/local/lib/python3.10/dist-packages (from transformers<5.0.0,>=4.45.2->marker-pdf) (6.0.2)\n",
            "Requirement already satisfied: requests in /usr/local/lib/python3.10/dist-packages (from transformers<5.0.0,>=4.45.2->marker-pdf) (2.32.3)\n",
            "Requirement already satisfied: safetensors>=0.4.1 in /usr/local/lib/python3.10/dist-packages (from transformers<5.0.0,>=4.45.2->marker-pdf) (0.4.5)\n",
            "Collecting tokenizers<0.21,>=0.20 (from transformers<5.0.0,>=4.45.2->marker-pdf)\n",
            "  Downloading tokenizers-0.20.1-cp310-cp310-manylinux_2_17_x86_64.manylinux2014_x86_64.whl.metadata (6.7 kB)\n",
            "Collecting coloredlogs (from onnxruntime<2.0.0,>=1.19.2->pdftext<0.4.0,>=0.3.17->marker-pdf)\n",
            "  Downloading coloredlogs-15.0.1-py2.py3-none-any.whl.metadata (12 kB)\n",
            "Requirement already satisfied: flatbuffers in /usr/local/lib/python3.10/dist-packages (from onnxruntime<2.0.0,>=1.19.2->pdftext<0.4.0,>=0.3.17->marker-pdf) (24.3.25)\n",
            "Requirement already satisfied: protobuf in /usr/local/lib/python3.10/dist-packages (from onnxruntime<2.0.0,>=1.19.2->pdftext<0.4.0,>=0.3.17->marker-pdf) (3.20.3)\n",
            "Requirement already satisfied: scipy>=1.6.0 in /usr/local/lib/python3.10/dist-packages (from scikit-learn<2.0.0,>=1.5.2->tabled-pdf<0.2.0,>=0.1.4->marker-pdf) (1.13.1)\n",
            "Requirement already satisfied: joblib>=1.2.0 in /usr/local/lib/python3.10/dist-packages (from scikit-learn<2.0.0,>=1.5.2->tabled-pdf<0.2.0,>=0.1.4->marker-pdf) (1.4.2)\n",
            "Requirement already satisfied: threadpoolctl>=3.1.0 in /usr/local/lib/python3.10/dist-packages (from scikit-learn<2.0.0,>=1.5.2->tabled-pdf<0.2.0,>=0.1.4->marker-pdf) (3.5.0)\n",
            "Requirement already satisfied: MarkupSafe>=2.0 in /usr/local/lib/python3.10/dist-packages (from jinja2->torch<3.0.0,>=2.4.1->marker-pdf) (3.0.2)\n",
            "Requirement already satisfied: charset-normalizer<4,>=2 in /usr/local/lib/python3.10/dist-packages (from requests->transformers<5.0.0,>=4.45.2->marker-pdf) (3.4.0)\n",
            "Requirement already satisfied: idna<4,>=2.5 in /usr/local/lib/python3.10/dist-packages (from requests->transformers<5.0.0,>=4.45.2->marker-pdf) (3.10)\n",
            "Requirement already satisfied: urllib3<3,>=1.21.1 in /usr/local/lib/python3.10/dist-packages (from requests->transformers<5.0.0,>=4.45.2->marker-pdf) (2.2.3)\n",
            "Requirement already satisfied: certifi>=2017.4.17 in /usr/local/lib/python3.10/dist-packages (from requests->transformers<5.0.0,>=4.45.2->marker-pdf) (2024.8.30)\n",
            "Collecting humanfriendly>=9.1 (from coloredlogs->onnxruntime<2.0.0,>=1.19.2->pdftext<0.4.0,>=0.3.17->marker-pdf)\n",
            "  Downloading humanfriendly-10.0-py2.py3-none-any.whl.metadata (9.2 kB)\n",
            "Downloading marker_pdf-0.3.9-py3-none-any.whl (65 kB)\n",
            "\u001b[2K   \u001b[90m━━━━━━━━━━━━━━━━━━━━━━━━━━━━━━━━━━━━━━━━\u001b[0m \u001b[32m65.8/65.8 kB\u001b[0m \u001b[31m5.4 MB/s\u001b[0m eta \u001b[36m0:00:00\u001b[0m\n",
            "\u001b[?25hDownloading filetype-1.2.0-py2.py3-none-any.whl (19 kB)\n",
            "Downloading ftfy-6.3.1-py3-none-any.whl (44 kB)\n",
            "\u001b[2K   \u001b[90m━━━━━━━━━━━━━━━━━━━━━━━━━━━━━━━━━━━━━━━━\u001b[0m \u001b[32m44.8/44.8 kB\u001b[0m \u001b[31m5.0 MB/s\u001b[0m eta \u001b[36m0:00:00\u001b[0m\n",
            "\u001b[?25hDownloading pdftext-0.3.18-py3-none-any.whl (28 kB)\n",
            "Downloading pydantic_settings-2.6.0-py3-none-any.whl (28 kB)\n",
            "Downloading python_dotenv-1.0.1-py3-none-any.whl (19 kB)\n",
            "Downloading rapidfuzz-3.10.1-cp310-cp310-manylinux_2_17_x86_64.manylinux2014_x86_64.whl (3.1 MB)\n",
            "\u001b[2K   \u001b[90m━━━━━━━━━━━━━━━━━━━━━━━━━━━━━━━━━━━━━━━━\u001b[0m \u001b[32m3.1/3.1 MB\u001b[0m \u001b[31m42.5 MB/s\u001b[0m eta \u001b[36m0:00:00\u001b[0m\n",
            "\u001b[?25hDownloading surya_ocr-0.6.12-py3-none-any.whl (130 kB)\n",
            "\u001b[2K   \u001b[90m━━━━━━━━━━━━━━━━━━━━━━━━━━━━━━━━━━━━━━━━\u001b[0m \u001b[32m130.5/130.5 kB\u001b[0m \u001b[31m12.9 MB/s\u001b[0m eta \u001b[36m0:00:00\u001b[0m\n",
            "\u001b[?25hDownloading tabled_pdf-0.1.4-py3-none-any.whl (31 kB)\n",
            "Downloading texify-0.2.0-py3-none-any.whl (30 kB)\n",
            "Downloading transformers-4.46.1-py3-none-any.whl (10.0 MB)\n",
            "\u001b[2K   \u001b[90m━━━━━━━━━━━━━━━━━━━━━━━━━━━━━━━━━━━━━━━━\u001b[0m \u001b[32m10.0/10.0 MB\u001b[0m \u001b[31m62.6 MB/s\u001b[0m eta \u001b[36m0:00:00\u001b[0m\n",
            "\u001b[?25hDownloading onnxruntime-1.19.2-cp310-cp310-manylinux_2_27_x86_64.manylinux_2_28_x86_64.whl (13.2 MB)\n",
            "\u001b[2K   \u001b[90m━━━━━━━━━━━━━━━━━━━━━━━━━━━━━━━━━━━━━━━━\u001b[0m \u001b[32m13.2/13.2 MB\u001b[0m \u001b[31m31.7 MB/s\u001b[0m eta \u001b[36m0:00:00\u001b[0m\n",
            "\u001b[?25hDownloading pypdfium2-4.30.0-py3-none-manylinux_2_17_x86_64.manylinux2014_x86_64.whl (2.8 MB)\n",
            "\u001b[2K   \u001b[90m━━━━━━━━━━━━━━━━━━━━━━━━━━━━━━━━━━━━━━━━\u001b[0m \u001b[32m2.8/2.8 MB\u001b[0m \u001b[31m54.8 MB/s\u001b[0m eta \u001b[36m0:00:00\u001b[0m\n",
            "\u001b[?25hDownloading tokenizers-0.20.1-cp310-cp310-manylinux_2_17_x86_64.manylinux2014_x86_64.whl (3.0 MB)\n",
            "\u001b[2K   \u001b[90m━━━━━━━━━━━━━━━━━━━━━━━━━━━━━━━━━━━━━━━━\u001b[0m \u001b[32m3.0/3.0 MB\u001b[0m \u001b[31m64.8 MB/s\u001b[0m eta \u001b[36m0:00:00\u001b[0m\n",
            "\u001b[?25hDownloading coloredlogs-15.0.1-py2.py3-none-any.whl (46 kB)\n",
            "\u001b[2K   \u001b[90m━━━━━━━━━━━━━━━━━━━━━━━━━━━━━━━━━━━━━━━━\u001b[0m \u001b[32m46.0/46.0 kB\u001b[0m \u001b[31m3.9 MB/s\u001b[0m eta \u001b[36m0:00:00\u001b[0m\n",
            "\u001b[?25hDownloading humanfriendly-10.0-py2.py3-none-any.whl (86 kB)\n",
            "\u001b[2K   \u001b[90m━━━━━━━━━━━━━━━━━━━━━━━━━━━━━━━━━━━━━━━━\u001b[0m \u001b[32m86.8/86.8 kB\u001b[0m \u001b[31m6.5 MB/s\u001b[0m eta \u001b[36m0:00:00\u001b[0m\n",
            "\u001b[?25hInstalling collected packages: filetype, rapidfuzz, python-dotenv, pypdfium2, humanfriendly, ftfy, coloredlogs, tokenizers, pydantic-settings, onnxruntime, transformers, pdftext, texify, surya-ocr, tabled-pdf, marker-pdf\n",
            "  Attempting uninstall: tokenizers\n",
            "    Found existing installation: tokenizers 0.19.1\n",
            "    Uninstalling tokenizers-0.19.1:\n",
            "      Successfully uninstalled tokenizers-0.19.1\n",
            "  Attempting uninstall: transformers\n",
            "    Found existing installation: transformers 4.44.2\n",
            "    Uninstalling transformers-4.44.2:\n",
            "      Successfully uninstalled transformers-4.44.2\n",
            "Successfully installed coloredlogs-15.0.1 filetype-1.2.0 ftfy-6.3.1 humanfriendly-10.0 marker-pdf-0.3.9 onnxruntime-1.19.2 pdftext-0.3.18 pydantic-settings-2.6.0 pypdfium2-4.30.0 python-dotenv-1.0.1 rapidfuzz-3.10.1 surya-ocr-0.6.12 tabled-pdf-0.1.4 texify-0.2.0 tokenizers-0.20.1 transformers-4.46.1\n"
          ]
        }
      ],
      "source": [
        "!pip install marker-pdf"
      ]
    },
    {
      "cell_type": "code",
      "source": [
        "import subprocess\n",
        "\n",
        "def run_marker_single_with_progress(input_pdf: str, output_folder: str, batch_multiplier: int = 2):\n",
        "    # Command to be executed\n",
        "    command = [\n",
        "        \"marker_single\",\n",
        "        input_pdf,\n",
        "        output_folder,\n",
        "        \"--batch_multiplier\", str(batch_multiplier)\n",
        "    ]\n",
        "\n",
        "    # Start the process and read output line-by-line\n",
        "    with subprocess.Popen(command, stdout=subprocess.PIPE, stderr=subprocess.PIPE, text=True) as process:\n",
        "        for line in process.stdout:\n",
        "            print(f\"Progress: {line.strip()}\")\n",
        "\n",
        "        # Handle any errors after completion\n",
        "        _, stderr = process.communicate()\n",
        "        if process.returncode != 0:\n",
        "            print(f\"Error: {stderr.strip()}\")\n"
      ],
      "metadata": {
        "id": "DjcE3efF2ymG"
      },
      "execution_count": null,
      "outputs": []
    },
    {
      "cell_type": "code",
      "source": [
        "!mkdir data"
      ],
      "metadata": {
        "colab": {
          "base_uri": "https://localhost:8080/"
        },
        "id": "wWflaSUUJFIC",
        "outputId": "f37df9d8-9d31-4d40-9987-cbeb99be80e6"
      },
      "execution_count": null,
      "outputs": [
        {
          "output_type": "stream",
          "name": "stdout",
          "text": [
            "mkdir: cannot create directory ‘data’: File exists\n"
          ]
        }
      ]
    },
    {
      "cell_type": "code",
      "source": [
        "%%time\n",
        "pdf_file_path = \"./thinkos.pdf\"\n",
        "output_folder = \"./data\"\n",
        "run_marker_single_with_progress(pdf_file_path, output_folder)"
      ],
      "metadata": {
        "colab": {
          "base_uri": "https://localhost:8080/"
        },
        "id": "z5xxcmT44wfj",
        "outputId": "07ab7032-1f51-46ed-aa4c-7173a437b705"
      },
      "execution_count": null,
      "outputs": [
        {
          "output_type": "stream",
          "name": "stdout",
          "text": [
            "Progress: Loaded detection model vikp/surya_det3 on device cuda with dtype torch.float16\n",
            "Progress: Loaded detection model vikp/surya_layout3 on device cuda with dtype torch.float16\n",
            "Progress: Loaded reading order model vikp/surya_order on device cuda with dtype torch.float16\n",
            "Progress: Loaded recognition model vikp/surya_rec2 on device cuda with dtype torch.float16\n",
            "Progress: Loaded texify model to cuda with torch.float16 dtype\n",
            "Progress: Loaded recognition model vikp/surya_tablerec on device cuda with dtype torch.float16\n",
            "Progress: Saved markdown to the ./data/thinkos folder\n",
            "Progress: Total time: 146.45304036140442\n",
            "CPU times: user 999 ms, sys: 125 ms, total: 1.12 s\n",
            "Wall time: 4min 36s\n"
          ]
        }
      ]
    },
    {
      "cell_type": "code",
      "source": [
        "import json\n",
        "import os\n",
        "from marker.convert import convert_single_pdf\n",
        "from marker.models import load_all_models\n",
        "\n",
        "def generate_markdown(full_text, images, tables=None):\n",
        "    \"\"\"\n",
        "    Generate a Markdown representation from extracted text, images, and tables.\n",
        "\n",
        "    Parameters:\n",
        "    full_text (str): The text content extracted from the PDF.\n",
        "    images (list): A list of image file paths or image data extracted from the PDF.\n",
        "    tables (list): A list of tables extracted from the PDF, where each table is represented as a list of rows.\n",
        "\n",
        "    Returns:\n",
        "    str: A string containing the Markdown formatted content.\n",
        "    \"\"\"\n",
        "    markdown_content = \"# Extracted PDF Content\\n\\n\"\n",
        "    markdown_content += \"## Text Content\\n\\n\"\n",
        "    markdown_content += full_text + \"\\n\\n\"\n",
        "\n",
        "    # Add images in Markdown format\n",
        "    if images:\n",
        "        markdown_content += \"## Images\\n\\n\"\n",
        "        for i, img_path in enumerate(images):\n",
        "            markdown_content += f\"![Image {i+1}]({img_path})\\n\\n\"\n",
        "\n",
        "    # Add tables in Markdown format\n",
        "    if tables:\n",
        "        markdown_content += \"## Tables\\n\\n\"\n",
        "        for table_index, table in enumerate(tables):\n",
        "            markdown_content += f\"### Table {table_index + 1}\\n\\n\"\n",
        "            for row in table:\n",
        "                markdown_content += \"| \" + \" | \".join(row) + \" |\\n\"\n",
        "            markdown_content += \"|---\" * len(table[0]) + \"|\\n\\n\"  # Add header separator line\n",
        "\n",
        "    return markdown_content\n",
        "\n",
        "\n",
        "def process_pdf_to_markdown(pdf_file_path, output_folder):\n",
        "    \"\"\"\n",
        "    Convert a PDF file to Markdown format and generate a metadata JSON file.\n",
        "\n",
        "    Parameters:\n",
        "    pdf_file_path (str): The file path to the PDF to convert.\n",
        "    output_folder (str): The directory where the output Markdown and metadata files will be saved.\n",
        "\n",
        "    Returns:\n",
        "    tuple: Paths to the generated Markdown and metadata files.\n",
        "    \"\"\"\n",
        "    # Load all models needed for conversion\n",
        "    model_lst = load_all_models()\n",
        "\n",
        "    # Convert the PDF file\n",
        "    full_text, images, out_meta = convert_single_pdf(pdf_file_path, model_lst)\n",
        "\n",
        "    # Prepare the metadata output\n",
        "    metadata_output = {\n",
        "        \"languages\": out_meta.get(\"languages\"),\n",
        "        \"filetype\": out_meta.get(\"filetype\", \"pdf\"),\n",
        "        \"pdf_toc\": out_meta.get(\"pdf_toc\", []),\n",
        "        \"computed_toc\": out_meta.get(\"computed_toc\", []),\n",
        "        \"pages\": out_meta.get(\"pages\", 0),\n",
        "        \"ocr_stats\": out_meta.get(\"ocr_stats\", {}),\n",
        "        \"block_stats\": out_meta.get(\"block_stats\", {}),\n",
        "    }\n",
        "\n",
        "    # Define output file paths\n",
        "    markdown_file_path = os.path.join(output_folder, \"output.md\")\n",
        "    metadata_file_path = os.path.join(output_folder, \"metadata.json\")\n",
        "\n",
        "    # Generate Markdown content\n",
        "    tables = out_meta.get(\"tables\", [])  # Extract tables from metadata if available\n",
        "    markdown_content = generate_markdown(full_text, images, tables)\n",
        "\n",
        "    # Write the Markdown content to a file\n",
        "    with open(markdown_file_path, \"w\") as md_file:\n",
        "        md_file.write(markdown_content)\n",
        "\n",
        "    # Write the metadata to a JSON file\n",
        "    with open(metadata_file_path, \"w\") as json_file:\n",
        "        json.dump(metadata_output, json_file, indent=4)\n",
        "\n",
        "    return markdown_file_path, metadata_file_path\n"
      ],
      "metadata": {
        "id": "kgGOoik3xz9C"
      },
      "execution_count": null,
      "outputs": []
    },
    {
      "cell_type": "code",
      "source": [
        "%%time\n",
        "pdf_file_path = \"./thinkos.pdf\"\n",
        "output_folder = \"./data/book\"\n",
        "process_pdf_to_markdown(pdf_file_path, output_folder)"
      ],
      "metadata": {
        "id": "GCxs-9Y-x34R"
      },
      "execution_count": null,
      "outputs": []
    },
    {
      "cell_type": "code",
      "source": [
        "!pip install streamlit pyngrok"
      ],
      "metadata": {
        "id": "vcy9We7GZwqR"
      },
      "execution_count": null,
      "outputs": []
    },
    {
      "cell_type": "code",
      "source": [
        "# Install required packages\n",
        "!pip install streamlit pyngrok\n",
        "\n",
        "# Import libraries\n",
        "import streamlit as st\n",
        "import os\n",
        "from pyngrok import ngrok\n",
        "\n",
        "# Set your ngrok authentication token directly here\n",
        "NGROK_AUTH_TOKEN = \"2nts24zokJ5F1lGp3zMKGiKVoFK_6uv15Kvda1mqLdhGF5soZ\"  # Replace with your actual ngrok auth token\n",
        "\n",
        "# Authenticate ngrok\n",
        "ngrok.set_auth_token(NGROK_AUTH_TOKEN)\n",
        "\n",
        "# Save the code to a .py file to run with Streamlit\n",
        "with open(\"app.py\", \"w\") as f:\n",
        "    f.write('''\n",
        "import streamlit as st\n",
        "import os\n",
        "\n",
        "# Define the function (use the actual implementation for PDF processing)\n",
        "def process_pdf_to_markdown(pdf_file_path, output_folder):\n",
        "    # Example placeholder function; replace with actual processing code\n",
        "    markdown_file_path = os.path.join(output_folder, \"output.md\")\n",
        "    metadata_file_path = os.path.join(output_folder, \"metadata.json\")\n",
        "    markdown_content = \"# Sample Markdown Content\\\\nThis is a converted PDF content.\"\n",
        "    return markdown_file_path, metadata_file_path, markdown_content\n",
        "\n",
        "# Streamlit UI setup\n",
        "st.title(\"PDF to Markdown Converter\")\n",
        "\n",
        "# File uploader\n",
        "uploaded_file = st.file_uploader(\"Upload a PDF file\", type=[\"pdf\"])\n",
        "\n",
        "if uploaded_file is not None:\n",
        "    # Save the uploaded file\n",
        "    pdf_file_path = os.path.join(\"./data/book\", uploaded_file.name)\n",
        "    output_folder = \"./data/book\"\n",
        "    os.makedirs(output_folder, exist_ok=True)\n",
        "\n",
        "    with open(pdf_file_path, \"wb\") as f:\n",
        "        f.write(uploaded_file.getbuffer())\n",
        "    st.success(\"File uploaded successfully!\")\n",
        "\n",
        "    # Process the PDF to Markdown\n",
        "    with st.spinner(\"Processing PDF...\"):\n",
        "        markdown_file_path, metadata_file_path, markdown_content = process_pdf_to_markdown(pdf_file_path, output_folder)\n",
        "\n",
        "    st.success(\"PDF converted to Markdown successfully!\")\n",
        "\n",
        "    # Display the Markdown content\n",
        "    st.markdown(\"### Converted Markdown Content:\")\n",
        "    st.markdown(markdown_content)\n",
        "\n",
        "    # Optionally provide a download link\n",
        "    with open(markdown_file_path, \"r\") as md_file:\n",
        "        st.download_button(\"Download Markdown\", md_file, file_name=\"output.md\")\n",
        "''')\n",
        "\n",
        "# Run Streamlit app using ngrok to make it accessible\n",
        "port = 8501\n",
        "public_url = ngrok.connect(port).public_url\n",
        "print(f\"Streamlit app is live at {public_url}\")\n",
        "\n",
        "# Start Streamlit app in the background\n",
        "!streamlit run app.py --server.port {port} &\n"
      ],
      "metadata": {
        "id": "d_Kztny1bHMO"
      },
      "execution_count": null,
      "outputs": []
    }
  ]
}